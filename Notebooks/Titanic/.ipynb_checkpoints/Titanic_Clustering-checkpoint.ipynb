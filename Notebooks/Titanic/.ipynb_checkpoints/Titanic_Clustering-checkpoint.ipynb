{
 "cells": [
  {
   "cell_type": "markdown",
   "metadata": {},
   "source": [
    "# Titanic Clusterization Example\n",
    "\n",
    "Cluster is an example of \"unsupervised learning\" as we do not know or use the ground truth to train the algorithm.  \n",
    "Instead the algorithm looks at the data and decides what to do (in this case cluster the data together into groups it \"thinks\" are alike).  \n",
    "\n",
    "## Import necessary modules \n",
    "Also set some Pandas defaults"
   ]
  },
  {
   "cell_type": "code",
   "execution_count": 1,
   "metadata": {
    "jupyter": {
     "source_hidden": true
    }
   },
   "outputs": [],
   "source": [
    "import numpy as np\n",
    "from sklearn.cluster import KMeans\n",
    "from sklearn import preprocessing\n",
    "import pandas as pd\n",
    "\n",
    "pd.set_option('display.max_rows', 500)\n",
    "pd.set_option('display.max_columns', 500)\n",
    "pd.set_option('display.width', 1000)"
   ]
  },
  {
   "cell_type": "markdown",
   "metadata": {},
   "source": [
    "## 1. Get data into python kernel\n",
    "Here we read a csv and take a peek at the first few rows (head() method)."
   ]
  },
  {
   "cell_type": "code",
   "execution_count": 2,
   "metadata": {
    "collapsed": true,
    "jupyter": {
     "outputs_hidden": true
    }
   },
   "outputs": [
    {
     "name": "stdout",
     "output_type": "stream",
     "text": [
      "   PassengerId  Survived  Pclass                                               Name     Sex   Age  SibSp  Parch            Ticket     Fare Cabin Embarked\n",
      "0            1         0       3                            Braund, Mr. Owen Harris    male  22.0      1      0         A/5 21171   7.2500   NaN        S\n",
      "1            2         1       1  Cumings, Mrs. John Bradley (Florence Briggs Th...  female  38.0      1      0          PC 17599  71.2833   C85        C\n",
      "2            3         1       3                             Heikkinen, Miss. Laina  female  26.0      0      0  STON/O2. 3101282   7.9250   NaN        S\n",
      "3            4         1       1       Futrelle, Mrs. Jacques Heath (Lily May Peel)  female  35.0      1      0            113803  53.1000  C123        S\n",
      "4            5         0       3                           Allen, Mr. William Henry    male  35.0      0      0            373450   8.0500   NaN        S\n"
     ]
    }
   ],
   "source": [
    "df = pd.read_csv('../../Data/titanic.csv')\n",
    "\n",
    "print(df.head())"
   ]
  },
  {
   "cell_type": "markdown",
   "metadata": {},
   "source": [
    "## 2. Profile the data\n",
    "\n",
    "Here we use Pandas's Dataframe describe function.  \n",
    "For more thorough/detailed profiling look at pandas-profiling library and run a profile_report."
   ]
  },
  {
   "cell_type": "code",
   "execution_count": 3,
   "metadata": {
    "collapsed": true,
    "jupyter": {
     "outputs_hidden": true
    }
   },
   "outputs": [
    {
     "data": {
      "text/html": [
       "<div>\n",
       "<style scoped>\n",
       "    .dataframe tbody tr th:only-of-type {\n",
       "        vertical-align: middle;\n",
       "    }\n",
       "\n",
       "    .dataframe tbody tr th {\n",
       "        vertical-align: top;\n",
       "    }\n",
       "\n",
       "    .dataframe thead th {\n",
       "        text-align: right;\n",
       "    }\n",
       "</style>\n",
       "<table border=\"1\" class=\"dataframe\">\n",
       "  <thead>\n",
       "    <tr style=\"text-align: right;\">\n",
       "      <th></th>\n",
       "      <th>PassengerId</th>\n",
       "      <th>Survived</th>\n",
       "      <th>Pclass</th>\n",
       "      <th>Age</th>\n",
       "      <th>SibSp</th>\n",
       "      <th>Parch</th>\n",
       "      <th>Fare</th>\n",
       "    </tr>\n",
       "  </thead>\n",
       "  <tbody>\n",
       "    <tr>\n",
       "      <th>count</th>\n",
       "      <td>891.000000</td>\n",
       "      <td>891.000000</td>\n",
       "      <td>891.000000</td>\n",
       "      <td>714.000000</td>\n",
       "      <td>891.000000</td>\n",
       "      <td>891.000000</td>\n",
       "      <td>891.000000</td>\n",
       "    </tr>\n",
       "    <tr>\n",
       "      <th>mean</th>\n",
       "      <td>446.000000</td>\n",
       "      <td>0.383838</td>\n",
       "      <td>2.308642</td>\n",
       "      <td>29.699118</td>\n",
       "      <td>0.523008</td>\n",
       "      <td>0.381594</td>\n",
       "      <td>32.204208</td>\n",
       "    </tr>\n",
       "    <tr>\n",
       "      <th>std</th>\n",
       "      <td>257.353842</td>\n",
       "      <td>0.486592</td>\n",
       "      <td>0.836071</td>\n",
       "      <td>14.526497</td>\n",
       "      <td>1.102743</td>\n",
       "      <td>0.806057</td>\n",
       "      <td>49.693429</td>\n",
       "    </tr>\n",
       "    <tr>\n",
       "      <th>min</th>\n",
       "      <td>1.000000</td>\n",
       "      <td>0.000000</td>\n",
       "      <td>1.000000</td>\n",
       "      <td>0.420000</td>\n",
       "      <td>0.000000</td>\n",
       "      <td>0.000000</td>\n",
       "      <td>0.000000</td>\n",
       "    </tr>\n",
       "    <tr>\n",
       "      <th>25%</th>\n",
       "      <td>223.500000</td>\n",
       "      <td>0.000000</td>\n",
       "      <td>2.000000</td>\n",
       "      <td>20.125000</td>\n",
       "      <td>0.000000</td>\n",
       "      <td>0.000000</td>\n",
       "      <td>7.910400</td>\n",
       "    </tr>\n",
       "    <tr>\n",
       "      <th>50%</th>\n",
       "      <td>446.000000</td>\n",
       "      <td>0.000000</td>\n",
       "      <td>3.000000</td>\n",
       "      <td>28.000000</td>\n",
       "      <td>0.000000</td>\n",
       "      <td>0.000000</td>\n",
       "      <td>14.454200</td>\n",
       "    </tr>\n",
       "    <tr>\n",
       "      <th>75%</th>\n",
       "      <td>668.500000</td>\n",
       "      <td>1.000000</td>\n",
       "      <td>3.000000</td>\n",
       "      <td>38.000000</td>\n",
       "      <td>1.000000</td>\n",
       "      <td>0.000000</td>\n",
       "      <td>31.000000</td>\n",
       "    </tr>\n",
       "    <tr>\n",
       "      <th>max</th>\n",
       "      <td>891.000000</td>\n",
       "      <td>1.000000</td>\n",
       "      <td>3.000000</td>\n",
       "      <td>80.000000</td>\n",
       "      <td>8.000000</td>\n",
       "      <td>6.000000</td>\n",
       "      <td>512.329200</td>\n",
       "    </tr>\n",
       "  </tbody>\n",
       "</table>\n",
       "</div>"
      ],
      "text/plain": [
       "       PassengerId    Survived      Pclass         Age       SibSp       Parch        Fare\n",
       "count   891.000000  891.000000  891.000000  714.000000  891.000000  891.000000  891.000000\n",
       "mean    446.000000    0.383838    2.308642   29.699118    0.523008    0.381594   32.204208\n",
       "std     257.353842    0.486592    0.836071   14.526497    1.102743    0.806057   49.693429\n",
       "min       1.000000    0.000000    1.000000    0.420000    0.000000    0.000000    0.000000\n",
       "25%     223.500000    0.000000    2.000000   20.125000    0.000000    0.000000    7.910400\n",
       "50%     446.000000    0.000000    3.000000   28.000000    0.000000    0.000000   14.454200\n",
       "75%     668.500000    1.000000    3.000000   38.000000    1.000000    0.000000   31.000000\n",
       "max     891.000000    1.000000    3.000000   80.000000    8.000000    6.000000  512.329200"
      ]
     },
     "execution_count": 3,
     "metadata": {},
     "output_type": "execute_result"
    }
   ],
   "source": [
    "df.describe()\n",
    "\n",
    "#import pandas_profiling\n",
    "#df.profile_report()"
   ]
  },
  {
   "cell_type": "markdown",
   "metadata": {},
   "source": [
    "## 3. Perform common dataset operations\n",
    "\n",
    "- Select desired/necessary fields\n",
    "- Fill holes in data\n",
    "- normalize data\n",
    "- map Strings to values"
   ]
  },
  {
   "cell_type": "code",
   "execution_count": 4,
   "metadata": {
    "collapsed": true,
    "jupyter": {
     "outputs_hidden": true
    }
   },
   "outputs": [
    {
     "name": "stdout",
     "output_type": "stream",
     "text": [
      "    Survived  Pclass  Sex   Age  SibSp  Parch     Fare  Cabin  Embarked\n",
      "0          0       3    0  22.0      1      0   7.2500    0.0       0.0\n",
      "1          1       1    1  38.0      1      0  71.2833    1.0       1.0\n",
      "2          1       3    1  26.0      0      0   7.9250    0.0       0.0\n",
      "3          1       1    1  35.0      1      0  53.1000    1.0       0.0\n",
      "4          0       3    0  35.0      0      0   8.0500    0.0       0.0\n",
      "5          0       3    0   0.0      0      0   8.4583    0.0       0.0\n",
      "6          0       1    0  54.0      0      0  51.8625    1.0       0.0\n",
      "7          0       3    0   2.0      3      1  21.0750    0.0       0.0\n",
      "8          1       3    1  27.0      0      2  11.1333    0.0       0.0\n",
      "9          1       2    1  14.0      1      0  30.0708    0.0       1.0\n",
      "10         1       3    1   4.0      1      1  16.7000    1.0       0.0\n",
      "11         1       1    1  58.0      0      0  26.5500    1.0       0.0\n",
      "12         0       3    0  20.0      0      0   8.0500    0.0       0.0\n",
      "13         0       3    0  39.0      1      5  31.2750    0.0       0.0\n",
      "14         0       3    1  14.0      0      0   7.8542    0.0       0.0\n",
      "15         1       2    1  55.0      0      0  16.0000    0.0       0.0\n",
      "16         0       3    0   2.0      4      1  29.1250    0.0       0.0\n",
      "17         1       2    0   0.0      0      0  13.0000    0.0       0.0\n",
      "18         0       3    1  31.0      1      0  18.0000    0.0       0.0\n",
      "19         1       3    1   0.0      0      0   7.2250    0.0       1.0\n"
     ]
    }
   ],
   "source": [
    "# Select fields of use - here we remove the Name column as it does not contribute to clustering/classification\n",
    "df.drop(['PassengerId', 'Name','Ticket'], 1, inplace=True)\n",
    "\n",
    "# Continue and map different literals to values\n",
    "df['Sex']      = df['Sex'].map({'female': 1, 'male': 0})\n",
    "df['Embarked'] = df['Embarked'].map({'C': 1, 'S': 0})\n",
    "df['Cabin'].fillna(0, inplace=True)\n",
    "df['Cabin']    = df['Cabin'].map({0: 0}).fillna(1)\n",
    "\n",
    "# General fill holes with 0 value\n",
    "df.fillna(0, inplace=True)\n",
    "print(df.head(20))"
   ]
  },
  {
   "cell_type": "markdown",
   "metadata": {},
   "source": [
    "## 4. K Means Model for Firm Clustering \n",
    "\n",
    "Let's create 2 clusters"
   ]
  },
  {
   "cell_type": "code",
   "execution_count": 6,
   "metadata": {},
   "outputs": [
    {
     "data": {
      "text/plain": [
       "KMeans(algorithm='auto', copy_x=True, init='k-means++', max_iter=300,\n",
       "       n_clusters=2, n_init=10, n_jobs=None, precompute_distances='auto',\n",
       "       random_state=None, tol=0.0001, verbose=0)"
      ]
     },
     "execution_count": 6,
     "metadata": {},
     "output_type": "execute_result"
    }
   ],
   "source": [
    "X = np.array(df.drop(['Survived'], 1).astype(float))\n",
    "y = np.array(df['Survived'])\n",
    "\n",
    "clf = KMeans(n_clusters=2)\n",
    "clf.fit(X)"
   ]
  },
  {
   "cell_type": "markdown",
   "metadata": {},
   "source": [
    "## 5. Test accuracy of clusters to ground truth"
   ]
  },
  {
   "cell_type": "code",
   "execution_count": 8,
   "metadata": {},
   "outputs": [
    {
     "name": "stdout",
     "output_type": "stream",
     "text": [
      "0.6442199775533108\n"
     ]
    }
   ],
   "source": [
    "# Test clusters against ground truth of real survivorship\n",
    "correct = 0\n",
    "for i in range(len(X)):\n",
    "    predict_passenger = np.array(X[i].astype(float))\n",
    "    predict_passenger = predict_passenger.reshape(-1, len(predict_passenger))\n",
    "    prediction = clf.predict(predict_passenger)\n",
    "    if prediction[0] == y[i]:\n",
    "        correct += 1\n",
    "\n",
    "print(correct/len(X))"
   ]
  }
 ],
 "metadata": {
  "kernelspec": {
   "display_name": "Python 3",
   "language": "python",
   "name": "python3"
  },
  "language_info": {
   "codemirror_mode": {
    "name": "ipython",
    "version": 3
   },
   "file_extension": ".py",
   "mimetype": "text/x-python",
   "name": "python",
   "nbconvert_exporter": "python",
   "pygments_lexer": "ipython3",
   "version": "3.7.6"
  }
 },
 "nbformat": 4,
 "nbformat_minor": 4
}
